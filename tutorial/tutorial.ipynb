{
 "cells": [
  {
   "cell_type": "code",
   "execution_count": 1,
   "metadata": {},
   "outputs": [],
   "source": [
    "import cv2\n",
    "\n",
    "img = cv2.imread(\"imori.jpg\")\n",
    "cv2.imshow(\"imori\", img)\n",
    "cv2.waitKey(0)\n",
    "cv2.destroyAllWindows()"
   ]
  },
  {
   "cell_type": "code",
   "execution_count": 2,
   "metadata": {},
   "outputs": [],
   "source": [
    "import cv2\n",
    "import numpy as np"
   ]
  },
  {
   "cell_type": "code",
   "execution_count": 3,
   "metadata": {},
   "outputs": [],
   "source": [
    "img = cv2.imread(\"imori.jpg\")"
   ]
  },
  {
   "cell_type": "code",
   "execution_count": 4,
   "metadata": {},
   "outputs": [
    {
     "data": {
      "text/plain": [
       "(128, 128, 3)"
      ]
     },
     "execution_count": 4,
     "metadata": {},
     "output_type": "execute_result"
    }
   ],
   "source": [
    "img.shape\n",
    "#タテ、ヨコ、チャネル\n",
    "#チャネルは(青、緑、赤)(B, G, R)の順"
   ]
  },
  {
   "cell_type": "markdown",
   "metadata": {},
   "source": [
    "## 座標は原点左上、→x、↓y\n",
    "## チャネルは(B, G, R)の順"
   ]
  },
  {
   "cell_type": "code",
   "execution_count": 5,
   "metadata": {},
   "outputs": [
    {
     "data": {
      "text/plain": [
       "dtype('uint8')"
      ]
     },
     "execution_count": 5,
     "metadata": {},
     "output_type": "execute_result"
    }
   ],
   "source": [
    "img.dtype\n",
    "#型(uint8は符号なしintの8bit、0～255)"
   ]
  },
  {
   "cell_type": "code",
   "execution_count": 6,
   "metadata": {},
   "outputs": [],
   "source": [
    "cv2.imshow(\"imori\", img)#画像表示(window名, 画像)\n",
    "cv2.waitKey(0)#キー入力を待つ(0だとずっと待つ)\n",
    "cv2.destroyAllWindows()#windowを消す"
   ]
  },
  {
   "cell_type": "code",
   "execution_count": 7,
   "metadata": {},
   "outputs": [],
   "source": [
    "#型を変える\n",
    "_img = img.astype(np.float32)\n",
    "\n",
    "cv2.imshow(\"_img\", _img)\n",
    "cv2.waitKey(0)\n",
    "cv2.destroyAllWindows()"
   ]
  },
  {
   "cell_type": "markdown",
   "metadata": {},
   "source": [
    "型が合ってない場合、うまく表示されない。よって、\n",
    "\n",
    "### 画像いじるとき\n",
    "1. cv2.imreadで読み込む  \n",
    "2. 型を**一度np.float32など小数点型に変換する**  \n",
    "3. 画像をいじる  \n",
    "4. **画素が0未満のものは0, 255を超えたものは255に直す。(超重要！後述)**  \n",
    "5. 型を**np.uint8に変換して表示・保存する。**  "
   ]
  },
  {
   "cell_type": "code",
   "execution_count": 8,
   "metadata": {},
   "outputs": [
    {
     "data": {
      "text/plain": [
       "array([232, 178, 171], dtype=uint8)"
      ]
     },
     "execution_count": 8,
     "metadata": {},
     "output_type": "execute_result"
    }
   ],
   "source": [
    "img[20, 30]\n",
    "#画素値はarray()\n",
    "#.shapeで見た形状の多次元配列、(タテ、ヨコ、チャネルの3次元配列)"
   ]
  },
  {
   "cell_type": "markdown",
   "metadata": {},
   "source": [
    "# チャネルは(B, G, R)の順だよ！！！！"
   ]
  },
  {
   "cell_type": "code",
   "execution_count": 9,
   "metadata": {},
   "outputs": [
    {
     "data": {
      "text/plain": [
       "178"
      ]
     },
     "execution_count": 9,
     "metadata": {},
     "output_type": "execute_result"
    }
   ],
   "source": [
    "img[20, 30, 1]\n",
    "# y=20, x=30, G, の画素値"
   ]
  },
  {
   "cell_type": "markdown",
   "metadata": {},
   "source": [
    "## スライス\n",
    "\n",
    "**スライス**を使うと、まとめて取り出せる。"
   ]
  },
  {
   "cell_type": "code",
   "execution_count": 10,
   "metadata": {},
   "outputs": [
    {
     "data": {
      "text/plain": [
       "array([[232, 178, 171],\n",
       "       [209, 156, 153],\n",
       "       [134,  85,  77]], dtype=uint8)"
      ]
     },
     "execution_count": 10,
     "metadata": {},
     "output_type": "execute_result"
    }
   ],
   "source": [
    "img[20, 30:33]\n",
    "# y=20, x=[30,32] \n",
    "#a:b で a <= v < b のvを取り出せる。リストとかのスライスと同じ。"
   ]
  },
  {
   "cell_type": "code",
   "execution_count": 11,
   "metadata": {},
   "outputs": [],
   "source": [
    "#画像の左上を黒にしてみる\n",
    "\n",
    "img2 = img.copy()#画像のコピー\n",
    "img2[:50, :50] = 0\n",
    "\n",
    "cv2.imshow(\"\", img2)\n",
    "cv2.waitKey()\n",
    "cv2.destroyAllWindows()"
   ]
  },
  {
   "cell_type": "markdown",
   "metadata": {},
   "source": [
    "#### 4．画素が0未満のものは0, 255を超えたものは255に直す。について\n",
    "\n",
    "画像をfloat32型にしてから、何か操作した時、  \n",
    "uint8型は[0, 255]の範囲しかとらないので、  \n",
    "この範囲から出た値は、uint8に戻すと、mod 256 に変換される。"
   ]
  },
  {
   "cell_type": "code",
   "execution_count": 12,
   "metadata": {},
   "outputs": [
    {
     "name": "stdout",
     "output_type": "stream",
     "text": [
      "[[4 4 4 ... 4 4 4]\n",
      " [4 4 4 ... 4 4 4]\n",
      " [4 4 4 ... 4 4 4]\n",
      " ...\n",
      " [4 4 4 ... 4 4 4]\n",
      " [4 4 4 ... 4 4 4]\n",
      " [4 4 4 ... 4 4 4]]\n"
     ]
    }
   ],
   "source": [
    "img2 = img.copy()\n",
    "img2 = img2.astype(np.float32)\n",
    "\n",
    "img2[60:100, 60:100, 0] = 260\n",
    "img2 = img2.astype(\"uint8\")\n",
    "\n",
    "print(img2[60:100, 60:100, 0])\n",
    "\n",
    "cv2.imshow(\"\", img2)\n",
    "cv2.waitKey(0)\n",
    "cv2.destroyAllWindows()"
   ]
  },
  {
   "cell_type": "code",
   "execution_count": 13,
   "metadata": {},
   "outputs": [
    {
     "name": "stdout",
     "output_type": "stream",
     "text": [
      "[[252. 224. 220. ... 255. 254. 255.]\n",
      " [255. 237. 226. ... 255. 255. 255.]\n",
      " [255. 251. 239. ... 255. 255. 255.]\n",
      " ...\n",
      " [255. 255. 255. ... 227. 221. 213.]\n",
      " [255. 255. 255. ... 255. 239. 232.]\n",
      " [255. 255. 255. ... 255. 255. 236.]]\n"
     ]
    }
   ],
   "source": [
    "#画素値に値足す。オーバーしたら255にする。\n",
    "img2 = img.copy()\n",
    "img2 = img2.astype(np.float32)\n",
    "\n",
    "H, W, C = img2.shape\n",
    "\n",
    "for h in range(H):\n",
    "    for w in range(W):\n",
    "        img2[h, w, 0] += 120\n",
    "        img2[h, w, 0] = min(img2[h, w, 0], 255)\n",
    "\n",
    "print(img2[:, :, 0])\n",
    "img2 = img2.astype(\"uint8\")\n",
    "\n",
    "cv2.imshow(\"\", img2)\n",
    "cv2.waitKey(0)\n",
    "cv2.destroyAllWindows()"
   ]
  },
  {
   "cell_type": "markdown",
   "metadata": {},
   "source": [
    "### 画像のコピー"
   ]
  },
  {
   "cell_type": "code",
   "execution_count": 14,
   "metadata": {},
   "outputs": [],
   "source": [
    "img2 = img.copy()"
   ]
  },
  {
   "cell_type": "markdown",
   "metadata": {},
   "source": [
    "### 画像の保存"
   ]
  },
  {
   "cell_type": "code",
   "execution_count": 15,
   "metadata": {},
   "outputs": [
    {
     "data": {
      "text/plain": [
       "True"
      ]
     },
     "execution_count": 15,
     "metadata": {},
     "output_type": "execute_result"
    }
   ],
   "source": [
    "cv2.imwrite(\"copy_img.jpg\", img2)"
   ]
  },
  {
   "cell_type": "markdown",
   "metadata": {},
   "source": [
    "### 練習\n",
    "画像の左半分上のRとBを入れ替える。"
   ]
  },
  {
   "cell_type": "code",
   "execution_count": 26,
   "metadata": {},
   "outputs": [],
   "source": [
    "import cv2\n",
    "import numpy as np\n",
    "\n",
    "\n",
    "img = cv2.imread(\"imori.jpg\")\n",
    "\n",
    "H, W, C = img.shape\n",
    "img2 = img.copy()\n",
    "\n",
    "img2[:H//2, :W//2] = img2[:H//2, :W//2, (2, 1, 0)]\n",
    "\n",
    "cv2.imshow(\"\", img2)\n",
    "cv2.waitKey(0)\n",
    "cv2.destroyAllWindows()"
   ]
  },
  {
   "cell_type": "code",
   "execution_count": 17,
   "metadata": {},
   "outputs": [
    {
     "name": "stdout",
     "output_type": "stream",
     "text": [
      "[132  80  67]\n",
      "[ 67  80 132]\n"
     ]
    }
   ],
   "source": [
    "print(img[0, 0, :])\n",
    "print(img[0, 0, (2, 1, 0)])"
   ]
  },
  {
   "cell_type": "code",
   "execution_count": 19,
   "metadata": {},
   "outputs": [],
   "source": [
    "#任意の領域を回転してみる\n",
    "import cv2\n",
    "import numpy as np\n",
    "\n",
    "\n",
    "img = cv2.imread(\"imori.jpg\")\n",
    "img2 = img.copy()\n",
    "\n",
    "a = img2[:100, :100]\n",
    "img2[:100, :100] = a[::-1, ::-1]\n",
    "\n",
    "cv2.imshow(\"\", img2)\n",
    "cv2.waitKey(0)\n",
    "cv2.destroyAllWindows()"
   ]
  }
 ],
 "metadata": {
  "kernelspec": {
   "display_name": "Python 3",
   "language": "python",
   "name": "python3"
  },
  "language_info": {
   "codemirror_mode": {
    "name": "ipython",
    "version": 3
   },
   "file_extension": ".py",
   "mimetype": "text/x-python",
   "name": "python",
   "nbconvert_exporter": "python",
   "pygments_lexer": "ipython3",
   "version": "3.6.8"
  }
 },
 "nbformat": 4,
 "nbformat_minor": 2
}
